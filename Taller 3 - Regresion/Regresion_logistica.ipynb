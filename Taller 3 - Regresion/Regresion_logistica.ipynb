{
  "nbformat": 4,
  "nbformat_minor": 0,
  "metadata": {
    "colab": {
      "provenance": [],
      "authorship_tag": "ABX9TyNUJAMMjmeyNd6YQWqKh9h0",
      "include_colab_link": true
    },
    "kernelspec": {
      "name": "python3",
      "display_name": "Python 3"
    },
    "language_info": {
      "name": "python"
    }
  },
  "cells": [
    {
      "cell_type": "markdown",
      "metadata": {
        "id": "view-in-github",
        "colab_type": "text"
      },
      "source": [
        "<a href=\"https://colab.research.google.com/github/Parsival1/Analisis_de_datos/blob/main/Taller%203%20-%20Regresion/Regresion_logistica.ipynb\" target=\"_parent\"><img src=\"https://colab.research.google.com/assets/colab-badge.svg\" alt=\"Open In Colab\"/></a>"
      ]
    },
    {
      "cell_type": "markdown",
      "source": [
        "##Gestio de Librerias##"
      ],
      "metadata": {
        "id": "nKjgdl5Kslsm"
      }
    },
    {
      "cell_type": "code",
      "execution_count": 9,
      "metadata": {
        "id": "Qy6WoAdaqBdY"
      },
      "outputs": [],
      "source": [
        "#importar las librerias\n",
        "\n",
        "#Procesar la informacion\n",
        "import pandas as pd\n",
        "import numpy as np\n",
        "import seaborn as sns\n",
        "import matplotlib.pyplot as plt\n",
        "\n",
        "# Regresion Logistica\n",
        "from sklearn.linear_model import LogisticRegression\n",
        "from sklearn.preprocessing import StandardScaler\n",
        "from sklearn.model_selection import train_test_split\n",
        "\n",
        "# Evaluacion del Modelo\n",
        "from sklearn.metrics import accuracy_score, confusion_matrix\n",
        "\n",
        "# Encriptacion de modelo\n",
        "import pickle"
      ]
    },
    {
      "cell_type": "markdown",
      "source": [
        "##Lectura y analisis de datos##"
      ],
      "metadata": {
        "id": "Kj5e9Nf1sb1e"
      }
    },
    {
      "cell_type": "code",
      "source": [
        "#Lectura de union de archivos\n",
        "dataset1 = pd.read_excel(\"/content/CultivoAntioquia.xlsx\", sheet_name=\"Parte01\")\n",
        "dataset2 = pd.read_excel(\"/content/CultivoAntioquia.xlsx\", sheet_name=\"Parte02\")\n",
        "\n",
        "dataset = pd.merge(dataset1,dataset2, on=\"Id\")"
      ],
      "metadata": {
        "id": "17i2cSiqqlRm"
      },
      "execution_count": 2,
      "outputs": []
    },
    {
      "cell_type": "code",
      "source": [
        "dataset.info()"
      ],
      "metadata": {
        "id": "dHiJpwjvsGvy"
      },
      "execution_count": null,
      "outputs": []
    },
    {
      "cell_type": "code",
      "source": [
        "dataset"
      ],
      "metadata": {
        "id": "2yr45A3bs6K4"
      },
      "execution_count": null,
      "outputs": []
    },
    {
      "cell_type": "code",
      "source": [
        "sns.pairplot(dataset, hue=\"Species\")"
      ],
      "metadata": {
        "id": "RIfGg8KuDTEs"
      },
      "execution_count": null,
      "outputs": []
    },
    {
      "cell_type": "markdown",
      "source": [
        "##Limpieza y transformacion de datos##"
      ],
      "metadata": {
        "id": "-KMw3-rXtKRj"
      }
    },
    {
      "cell_type": "code",
      "source": [
        "#Eliminar colunma Id ya que no es necesaria\n",
        "dataset = dataset.drop(\"Id\", axis=1)"
      ],
      "metadata": {
        "id": "UQKy-iHNrzXm"
      },
      "execution_count": null,
      "outputs": []
    },
    {
      "cell_type": "code",
      "source": [
        "# CONVERSION DE ETIQUETAS SEGUN EL METODO\n",
        "\n",
        "dataset['Species'] = dataset['Species'].replace('Iris-setosa', 1)\n",
        "dataset['Species'] = dataset['Species'].replace('Iris-virginica', 2)\n",
        "dataset['Species'] = dataset['Species'].replace('Iris-versicolor', 3)\n",
        "\n",
        "dataset"
      ],
      "metadata": {
        "id": "qIB5SK0BtbHk"
      },
      "execution_count": null,
      "outputs": []
    },
    {
      "cell_type": "code",
      "source": [
        "# Calcular la matriz de correlación de todas las variables del DataFrame\n",
        "matrix_correlacion = dataset.corr().abs()\n",
        "\n",
        "# Excluir la diagonal de la matriz de correlación\n",
        "np.fill_diagonal(matrix_correlacion.values, 0)\n",
        "\n",
        "# Obtener las variables más correlacionadas\n",
        "most_correlated = matrix_correlacion.unstack().sort_values(ascending=False).drop_duplicates()\n",
        "\n",
        "# Visualizar las variables más correlacionadas usando un mapa de calor\n",
        "plt.figure(figsize=(10, 8))\n",
        "sns.heatmap(matrix_correlacion, annot=True, cmap='coolwarm')\n",
        "plt.title('Matriz de Correlación')\n",
        "plt.show()"
      ],
      "metadata": {
        "id": "oTs_60_jv-Ae"
      },
      "execution_count": null,
      "outputs": []
    },
    {
      "cell_type": "markdown",
      "source": [
        "##Entrenamineto de modelo de regresion##"
      ],
      "metadata": {
        "id": "iOeEvTFpw53a"
      }
    },
    {
      "cell_type": "code",
      "source": [
        "# Seleccionar las variables relevantes para la regresión\n",
        "variables = ['SepalLengthCm',\t'SepalWidthCm',\t'PetalLengthCm',\t'PetalWidthCm']\n",
        "\n",
        "X = dataset[variables]\n",
        "y = dataset['Species']"
      ],
      "metadata": {
        "id": "HM2vgZINw5Pk"
      },
      "execution_count": 11,
      "outputs": []
    },
    {
      "cell_type": "code",
      "source": [
        "# Dividir el conjunto de datos en entrenamiento y prueba\n",
        "X_entrenamiento, X_testeo, y_entrenamiento, y_testeo = train_test_split(X, y, test_size=0.2, random_state=42)"
      ],
      "metadata": {
        "id": "EE0pdLJvxwiB"
      },
      "execution_count": 12,
      "outputs": []
    },
    {
      "cell_type": "markdown",
      "source": [
        "Se llego a al conclusion de que escalar los datos en este caso, sesga los la informacion y no deja hacer las predicciones ni el proceso adecuadamente."
      ],
      "metadata": {
        "id": "U59sWda6Fls-"
      }
    },
    {
      "cell_type": "code",
      "source": [
        "# Crear el modelo de regresión lineal\n",
        "model = LogisticRegression(max_iter=10000)"
      ],
      "metadata": {
        "id": "gP9HSHP7yQL3"
      },
      "execution_count": 28,
      "outputs": []
    },
    {
      "cell_type": "code",
      "source": [
        "# Entrenar el modelo\n",
        "model.fit(X_entrenamiento, y_entrenamiento)"
      ],
      "metadata": {
        "id": "heC9jvUGySEZ"
      },
      "execution_count": null,
      "outputs": []
    },
    {
      "cell_type": "code",
      "source": [
        "# Realizar predicciones en el conjunto de prueba\n",
        "y_pred = model.predict(X_testeo)"
      ],
      "metadata": {
        "id": "wZqkyVYeyh8H"
      },
      "execution_count": 30,
      "outputs": []
    },
    {
      "cell_type": "code",
      "source": [
        "# Calcular la precisión del modelo\n",
        "accuracy = accuracy_score(y_testeo, y_pred)\n",
        "print('Precisión del modelo: %.2f' % accuracy)"
      ],
      "metadata": {
        "colab": {
          "base_uri": "https://localhost:8080/"
        },
        "id": "4vjGYYomyolC",
        "outputId": "cfda2c3a-b9b5-493a-aadd-424895c10afa"
      },
      "execution_count": 31,
      "outputs": [
        {
          "output_type": "stream",
          "name": "stdout",
          "text": [
            "Precisión del modelo: 1.00\n"
          ]
        }
      ]
    },
    {
      "cell_type": "code",
      "source": [
        "# Calcular la matriz de confusión\n",
        "conf_matrix = confusion_matrix(y_testeo, y_pred)\n",
        "print('Matriz de confusión:')\n",
        "print(conf_matrix)"
      ],
      "metadata": {
        "id": "7vvjIhamy_-F"
      },
      "execution_count": null,
      "outputs": []
    },
    {
      "cell_type": "code",
      "source": [
        "SepalLengthCm = 6.9\n",
        "SepalWidthCm = 3.2\n",
        "PetalLengthCm = 5.7\n",
        "PetalWidthCm = 2.3"
      ],
      "metadata": {
        "id": "DRpemPmIzbkc"
      },
      "execution_count": 38,
      "outputs": []
    },
    {
      "cell_type": "code",
      "source": [
        "# Realizar una predicción de probabilidades para la predicción futura\n",
        "pred_probabilities = model.predict_proba([[SepalLengthCm, SepalWidthCm, PetalLengthCm, PetalWidthCm]])\n",
        "\n",
        "# Obtener los nombres de las clases (Deserción, Alerta, Buen estudiante)\n",
        "class_names = model.classes_\n",
        "\n",
        "# Imprimir las probabilidades de cada clase para la predicción futura\n",
        "for i, class_name in enumerate(class_names):\n",
        "    prob = pred_probabilities[0, i] * 100\n",
        "    print(f\"Probabilidad {class_name}: {round(prob, 2)}%\")"
      ],
      "metadata": {
        "id": "zUgGADbezwLS"
      },
      "execution_count": null,
      "outputs": []
    },
    {
      "cell_type": "markdown",
      "source": [
        "##Exportacion de datos##\n"
      ],
      "metadata": {
        "id": "HxfzyUhKKOjD"
      }
    },
    {
      "cell_type": "code",
      "source": [
        "# Guardar el modelo en un archivo\n",
        "with open('modelo_regresion_Iris.pkl', 'wb') as file:\n",
        "    pickle.dump(model, file)"
      ],
      "metadata": {
        "id": "Iap-CdFjGQL1"
      },
      "execution_count": 40,
      "outputs": []
    }
  ]
}