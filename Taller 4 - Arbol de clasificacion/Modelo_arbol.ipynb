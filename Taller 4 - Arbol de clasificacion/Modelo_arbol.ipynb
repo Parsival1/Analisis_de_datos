{
  "nbformat": 4,
  "nbformat_minor": 0,
  "metadata": {
    "colab": {
      "provenance": [],
      "authorship_tag": "ABX9TyP16r9SegpeIHuJ4KWAOxzW",
      "include_colab_link": true
    },
    "kernelspec": {
      "name": "python3",
      "display_name": "Python 3"
    },
    "language_info": {
      "name": "python"
    }
  },
  "cells": [
    {
      "cell_type": "markdown",
      "metadata": {
        "id": "view-in-github",
        "colab_type": "text"
      },
      "source": [
        "<a href=\"https://colab.research.google.com/github/Parsival1/Analisis_de_datos/blob/main/Taller%204%20-%20Arbol%20de%20clasificacion/Modelo_arbol.ipynb\" target=\"_parent\"><img src=\"https://colab.research.google.com/assets/colab-badge.svg\" alt=\"Open In Colab\"/></a>"
      ]
    },
    {
      "cell_type": "markdown",
      "source": [
        "#Gestion de librerias#"
      ],
      "metadata": {
        "id": "avI_eV_8N-aG"
      }
    },
    {
      "cell_type": "code",
      "execution_count": null,
      "metadata": {
        "id": "eI8mHEiSdb7P"
      },
      "outputs": [],
      "source": [
        "#importar las librerias\n",
        "\n",
        "# Procesar la informacion\n",
        "import pandas as pd\n",
        "import numpy as np\n",
        "\n",
        "# Visualizacion del arbol\n",
        "import seaborn as sns\n",
        "import matplotlib.pyplot as plt\n",
        "from sklearn.tree import plot_tree\n",
        "\n",
        "# Regresion Logistica\n",
        "from sklearn.tree import DecisionTreeClassifier #\n",
        "from sklearn.model_selection import train_test_split\n",
        "from sklearn.utils import shuffle\n",
        "\n",
        "# Evaluacion del Modelo\n",
        "from sklearn.metrics import accuracy_score, confusion_matrix\n",
        "\n",
        "# Encriptacion de modelo\n",
        "import pickle"
      ]
    },
    {
      "cell_type": "markdown",
      "source": [
        "#Lectura y procesaiento de datos#"
      ],
      "metadata": {
        "id": "40Bcd7mHOF5p"
      }
    },
    {
      "cell_type": "code",
      "source": [
        "dataset = pd.read_excel('agricultura.xlsx')"
      ],
      "metadata": {
        "id": "iFikKGYFdtOj"
      },
      "execution_count": null,
      "outputs": []
    },
    {
      "cell_type": "code",
      "source": [
        "#Obtener informacion del dataset - Etiquetas\n",
        "dataset.info()"
      ],
      "metadata": {
        "id": "dBp3LRWXd4EP"
      },
      "execution_count": null,
      "outputs": []
    },
    {
      "cell_type": "code",
      "source": [
        "# Mezclar los datos\n",
        "dataset = shuffle(dataset, random_state=1)"
      ],
      "metadata": {
        "id": "Lq1zTxq6eGv9"
      },
      "execution_count": null,
      "outputs": []
    },
    {
      "cell_type": "markdown",
      "source": [
        "#Entrenamiento de datos#"
      ],
      "metadata": {
        "id": "oBrNqKpkOLfZ"
      }
    },
    {
      "cell_type": "code",
      "source": [
        "# Seleccionar las variables relevantes\n",
        "variables = ['N', 'P', 'K', 'temperatura','humedad','ph','precipitacion']\n",
        "\n",
        "X = dataset[variables]\n",
        "y = dataset['etiqueta']"
      ],
      "metadata": {
        "id": "CVyRtzC2eOvB"
      },
      "execution_count": null,
      "outputs": []
    },
    {
      "cell_type": "code",
      "source": [
        "# Dividir el conjunto de datos en entrenamiento y prueba\n",
        "X_train, X_test, y_train, y_test = train_test_split(X, y, test_size=0.2, random_state=10)"
      ],
      "metadata": {
        "id": "dk-3JGgkeo4O"
      },
      "execution_count": null,
      "outputs": []
    },
    {
      "cell_type": "code",
      "source": [
        "# Crear el modelo de Clasificacion\n",
        "model = DecisionTreeClassifier(random_state=10)"
      ],
      "metadata": {
        "id": "xRtx7g00etDM"
      },
      "execution_count": null,
      "outputs": []
    },
    {
      "cell_type": "code",
      "source": [
        "# Entrenar el modelo\n",
        "model.fit(X_train, y_train)"
      ],
      "metadata": {
        "id": "r2piL1Uteu9q"
      },
      "execution_count": null,
      "outputs": []
    },
    {
      "cell_type": "code",
      "source": [
        "# Realizar predicciones en el conjunto de prueba\n",
        "y_pred = model.predict(X_test)"
      ],
      "metadata": {
        "id": "IWoCwWTBexFM"
      },
      "execution_count": null,
      "outputs": []
    },
    {
      "cell_type": "code",
      "source": [
        "# Calcular la precisión del modelo\n",
        "accuracy = accuracy_score(y_test, y_pred)\n",
        "print('Precisión del modelo: %.2f' % accuracy)"
      ],
      "metadata": {
        "colab": {
          "base_uri": "https://localhost:8080/"
        },
        "id": "YldDwiw3ezv6",
        "outputId": "31023b74-d37a-429e-c0e7-2008f2576eab"
      },
      "execution_count": null,
      "outputs": [
        {
          "output_type": "stream",
          "name": "stdout",
          "text": [
            "Precisión del modelo: 0.96\n"
          ]
        }
      ]
    },
    {
      "cell_type": "code",
      "source": [
        "# Calcular la matriz de confusión\n",
        "conf_matrix = confusion_matrix(y_test, y_pred)\n",
        "print('Matriz de confusión:')\n",
        "print(conf_matrix)"
      ],
      "metadata": {
        "colab": {
          "base_uri": "https://localhost:8080/"
        },
        "id": "lYOM3_h8e1u_",
        "outputId": "6b1547ef-24dd-47d5-e333-bdb411dcf666"
      },
      "execution_count": null,
      "outputs": [
        {
          "output_type": "stream",
          "name": "stdout",
          "text": [
            "Matriz de confusión:\n",
            "[[19  0  0  0  0  0  0  0  0  0  0  0  0  0  0  0  0  0  0  0  0  0]\n",
            " [ 0 17  0  1  0  0  0  0  0  0  0  0  0  0  0  0  0  0  0  0  0  1]\n",
            " [ 0  0 16  0  0  0  0  0  0  0  0  0  0  0  0  0  0  0  0  0  0  0]\n",
            " [ 0  0  0 18  0  0  0  0  0  0  0  0  0  0  0  0  0  0  0  0  0  0]\n",
            " [ 0  0  0  0 21  0  0  0  0  0  0  0  0  0  0  0  0  0  0  0  0  0]\n",
            " [ 0  0  0  0  0 20  0  2  0  0  1  0  0  0  0  0  0  0  0  0  0  0]\n",
            " [ 0  0  0  0  0  1 27  0  0  0  0  0  0  0  0  0  0  0  0  0  0  0]\n",
            " [ 0  0  0  0  0  1  0 23  0  0  1  0  0  0  0  0  0  0  0  0  0  0]\n",
            " [ 0  0  0  0  0  0  0  0 15  0  0  0  0  0  0  0  0  0  0  0  0  0]\n",
            " [ 0  0  0  0  0  0  0  0  0 24  0  0  0  0  0  0  0  0  0  0  0  0]\n",
            " [ 0  0  0  0  0  1  0  1  0  0 23  0  0  0  0  0  0  0  0  0  0  0]\n",
            " [ 0  0  0  0  0  0  0  0  0  0  0 19  0  0  0  0  0  0  0  1  0  0]\n",
            " [ 0  0  0  0  0  0  0  0  0  0  0  0 22  0  0  0  0  0  0  0  0  0]\n",
            " [ 0  0  0  0  0  0  0  0  0  0  0  0  0 21  0  0  0  0  0  0  0  0]\n",
            " [ 0  0  0  0  0  0  0  0  0  0  0  0  0  0 20  0  0  0  0  0  0  0]\n",
            " [ 0  0  0  0  0  0  0  0  0  0  0  0  0  0  0 14  0  0  0  0  0  0]\n",
            " [ 0  0  0  0  0  0  0  0  0  0  0  0  0  0  0  0 15  0  0  0  0  0]\n",
            " [ 0  0  0  0  0  0  0  0  0  0  0  0  0  0  0  0  0 22  0  0  0  0]\n",
            " [ 0  0  0  0  0  0  0  0  0  0  0  0  0  0  0  0  0  0 17  0  0  0]\n",
            " [ 0  0  0  0  0  0  0  0  0  0  0  0  0  0  0  0  2  0  0 17  0  0]\n",
            " [ 0  0  0  0  0  0  0  0  0  0  0  0  0  0  0  1  0  0  0  0 17  0]\n",
            " [ 0  2  0  0  0  0  0  0  0  0  0  0  0  0  0  0  0  0  0  0  0 17]]\n"
          ]
        }
      ]
    },
    {
      "cell_type": "code",
      "source": [
        "plt.figure(figsize=(12, 8))\n",
        "plot_tree(model, feature_names=dataset.columns[:-1], class_names=model.classes_, filled=True, rounded=True)\n",
        "plt.show()"
      ],
      "metadata": {
        "id": "f9u5ATYFe4BU"
      },
      "execution_count": null,
      "outputs": []
    },
    {
      "cell_type": "code",
      "source": [
        "N = 13\n",
        "P = 5\n",
        "K = 8\n",
        "temperatura = 2385340379\n",
        "humedad = 9010522549\n",
        "ph = 7474710503\n",
        "precipitacion = 103923226"
      ],
      "metadata": {
        "id": "Gju1P84De4-d"
      },
      "execution_count": null,
      "outputs": []
    },
    {
      "cell_type": "code",
      "source": [
        "# Valores futuros\n",
        "new_samples = np.array([[N, P, K, temperatura,humedad,ph,precipitacion]])\n",
        "\n",
        "# Realiza predicciones en las nuevas muestras utilizando el modelo de árbol de decisión\n",
        "y_pred_new = model.predict(new_samples)\n",
        "\n",
        "print(f\"La semilla perfecta para sembras en su terreno es: {y_pred_new[0]}\")"
      ],
      "metadata": {
        "colab": {
          "base_uri": "https://localhost:8080/"
        },
        "id": "iRZLzEr5fkEb",
        "outputId": "eb61f248-c251-433e-b5b3-b7ce07023adc"
      },
      "execution_count": null,
      "outputs": [
        {
          "output_type": "stream",
          "name": "stdout",
          "text": [
            "La semilla perfecta para sembras en su terreno es: naranja\n"
          ]
        },
        {
          "output_type": "stream",
          "name": "stderr",
          "text": [
            "/usr/local/lib/python3.10/dist-packages/sklearn/base.py:439: UserWarning: X does not have valid feature names, but DecisionTreeClassifier was fitted with feature names\n",
            "  warnings.warn(\n"
          ]
        }
      ]
    },
    {
      "cell_type": "markdown",
      "source": [
        "#Exportacion de datos#"
      ],
      "metadata": {
        "id": "7qXr3E49OfXz"
      }
    },
    {
      "cell_type": "code",
      "source": [
        "# Guardar el modelo en un archivo\n",
        "with open('modelo_arbol.pkl', 'wb') as file:\n",
        "    pickle.dump(model, file)"
      ],
      "metadata": {
        "id": "N0RGd9ElhSWO"
      },
      "execution_count": null,
      "outputs": []
    }
  ]
}