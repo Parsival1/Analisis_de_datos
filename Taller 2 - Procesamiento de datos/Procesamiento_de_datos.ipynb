{
  "nbformat": 4,
  "nbformat_minor": 0,
  "metadata": {
    "colab": {
      "provenance": [],
      "collapsed_sections": [
        "9O2XOiDpoh4c",
        "zfpTFUOgou4M",
        "QxptUaP2o8D2",
        "V3SS2eMZpimY",
        "u25aSZWQpv0q",
        "aK8GwLp7rn5I",
        "MSdReIMTr2Qv",
        "-JbwJc80PO4a",
        "a0aYraYKPizk",
        "MhoiW-5MPowa",
        "oSbha2jeWRx6",
        "wF0YqF7UtbTc",
        "n8VZxsUnuF7d",
        "t1D0soYRuURm",
        "9DZbDFWCud4A",
        "GwFOicSqvjz3",
        "Kjm89EeoyPq7",
        "-mLAsCNl2Uno",
        "STKsTmvF8K50",
        "vbZoJFN9CMDw"
      ],
      "toc_visible": true,
      "authorship_tag": "ABX9TyPfyfn/Xc5F8U0w3MPmiNA/",
      "include_colab_link": true
    },
    "kernelspec": {
      "name": "python3",
      "display_name": "Python 3"
    },
    "language_info": {
      "name": "python"
    }
  },
  "cells": [
    {
      "cell_type": "markdown",
      "metadata": {
        "id": "view-in-github",
        "colab_type": "text"
      },
      "source": [
        "<a href=\"https://colab.research.google.com/github/Parsival1/Analisis_de_datos/blob/main/Taller%202%20-%20Procesamiento%20de%20datos/Procesamiento_de_datos.ipynb\" target=\"_parent\"><img src=\"https://colab.research.google.com/assets/colab-badge.svg\" alt=\"Open In Colab\"/></a>"
      ]
    },
    {
      "cell_type": "markdown",
      "source": [
        "#***Gestio de librerias***#"
      ],
      "metadata": {
        "id": "9O2XOiDpoh4c"
      }
    },
    {
      "cell_type": "markdown",
      "source": [
        "Esta seccion se cargar e importa todo lo necesario para manipular los datos, hacer operaciones y graficas."
      ],
      "metadata": {
        "id": "L58Y4eE-VJC6"
      }
    },
    {
      "cell_type": "code",
      "execution_count": null,
      "metadata": {
        "id": "gyzKf9f4bHIK"
      },
      "outputs": [],
      "source": [
        "import requests\n",
        "import pandas as pd\n",
        "from bs4 import BeautifulSoup\n",
        "import matplotlib.pyplot as plt\n",
        "!pip install pandas-profiling\n",
        "from pandas_profiling import ProfileReport"
      ]
    },
    {
      "cell_type": "markdown",
      "source": [
        "#***Carga y union de archivos***#"
      ],
      "metadata": {
        "id": "zfpTFUOgou4M"
      }
    },
    {
      "cell_type": "markdown",
      "source": [
        "Esta seccion se encarga de unir los datos de los 2 archivos en 1 solo y exportarlo para poder trabajar adecuadamente"
      ],
      "metadata": {
        "id": "6yEU6lzgVbWZ"
      }
    },
    {
      "cell_type": "code",
      "source": [
        "# Cargar los datos de ambos archivos\n",
        "datos_1 = pd.read_excel('DatosP01.xlsx')\n",
        "datos_2 = pd.read_excel('DatosP02.xlsx')\n",
        "\n",
        "# Unir los datos basados en la columna \"Id\", especificando qué columnas incluir\n",
        "datos_unidos = pd.merge(datos_1, datos_2[['Id','Tipo de Colegio', 'Uso_LMS', 'Asistencia', 'Entregas_Completas', 'Sistemas','Matematicas', 'Ingles', 'Comunicación']], on='Id')\n",
        "\n",
        "# Guardar los datos unidos en un nuevo archivo de Excel\n",
        "datos_unidos.to_excel('Dataset_final.xlsx', index=False)"
      ],
      "metadata": {
        "id": "hpdEEE6rcQB8"
      },
      "execution_count": null,
      "outputs": []
    },
    {
      "cell_type": "markdown",
      "source": [
        "#***Lectura del Dataset***#"
      ],
      "metadata": {
        "id": "QxptUaP2o8D2"
      }
    },
    {
      "cell_type": "markdown",
      "source": [
        "Esta seccion se encarga de leer el dataset con el cual se va a trabajar"
      ],
      "metadata": {
        "id": "OQ3jJPgKVshu"
      }
    },
    {
      "cell_type": "code",
      "source": [
        "dataset = pd.read_excel('Dataset_final.xlsx')\n",
        "dataset"
      ],
      "metadata": {
        "id": "3NEcvHm3gICD"
      },
      "execution_count": null,
      "outputs": []
    },
    {
      "cell_type": "markdown",
      "source": [
        "#***Descripcion estadistica inicial***#"
      ],
      "metadata": {
        "id": "V3SS2eMZpimY"
      }
    },
    {
      "cell_type": "markdown",
      "source": [
        "Esta sección se encarga de dar un informe inicial de los datos del dataset, aun no se han modificado. Esto sirve para analizar mejor la informacion y poder tomar deciciones de qué hacer con ella."
      ],
      "metadata": {
        "id": "05j2QBD1VzmG"
      }
    },
    {
      "cell_type": "code",
      "source": [
        "#obtener informacion del dataset\n",
        "dataset.info()\n",
        "dataset.describe()"
      ],
      "metadata": {
        "id": "UCsU7mRmiXML"
      },
      "execution_count": null,
      "outputs": []
    },
    {
      "cell_type": "markdown",
      "source": [
        "Este bloque hace un reporte estadistico y lo exporta en un archivo html el cual se puede abrir y visualizar en el navegador"
      ],
      "metadata": {
        "id": "vbMsiragWZSb"
      }
    },
    {
      "cell_type": "code",
      "source": [
        "#Reporte estadistico del dataset\n",
        "reporte = ProfileReport(dataset)\n",
        "reporte.to_file(output_file='Reporte.html')"
      ],
      "metadata": {
        "id": "5_rHxuYnic_w"
      },
      "execution_count": null,
      "outputs": []
    },
    {
      "cell_type": "markdown",
      "source": [
        "#***Limpieza de datos***#"
      ],
      "metadata": {
        "id": "u25aSZWQpv0q"
      }
    },
    {
      "cell_type": "markdown",
      "source": [
        "Todo esta sección se encarga de hacer eliminacion y tranformacion de variables irrelevante, redundantes o nulas. En este caso no se elimino nada, se mantuvo todo el dataset, lo que se hizo fue transormar y completar los campos."
      ],
      "metadata": {
        "id": "jpyIAiTVWo9G"
      }
    },
    {
      "cell_type": "markdown",
      "source": [
        "##***Estandarizacion de ortografia***##"
      ],
      "metadata": {
        "id": "aK8GwLp7rn5I"
      }
    },
    {
      "cell_type": "markdown",
      "source": [
        "Esta subsección se encarga de estandarizar la ortografia de los datos en la tabla, en mi caso puse la primera letra mayusula y el resto minuscula en cuanto a las palabras, esto con el fin de brindar mayor entendimiento y estetica al dataset."
      ],
      "metadata": {
        "id": "R6qIeRUXXcCV"
      }
    },
    {
      "cell_type": "code",
      "source": [
        "#Estandarizar ortografia de genero Masculino\n",
        "dataset.loc[dataset['Sexo'] == 'M','Sexo'] = 'Masculino'\n",
        "\n",
        "#Estandarizar ortografia de genero Femenino\n",
        "dataset.loc[dataset['Sexo'] == 'F','Sexo'] = 'Femenino'\n",
        "dataset.loc[dataset['Sexo'] == 'Mujer','Sexo'] = 'Femenino'\n",
        "dataset"
      ],
      "metadata": {
        "id": "F6RagemxjiuW"
      },
      "execution_count": null,
      "outputs": []
    },
    {
      "cell_type": "code",
      "source": [
        "#estandarizar la ortografia de la columna 'Trabaja'\n",
        "#'NO'\n",
        "dataset.loc[dataset['Trabaja'] == 'NO','Trabaja'] = 'No'\n",
        "dataset.loc[dataset['Trabaja'] == 'no','Trabaja'] = 'No'\n",
        "#'SI'\n",
        "dataset.loc[dataset['Trabaja'] == 'SI','Trabaja'] = 'Si'\n",
        "dataset"
      ],
      "metadata": {
        "id": "muf-Kv2ak9OA"
      },
      "execution_count": null,
      "outputs": []
    },
    {
      "cell_type": "code",
      "source": [
        "#Estandarizar la ortografia de la columna 'Enfermedad'\n",
        "#'NO'\n",
        "dataset.loc[dataset['Enfermedad'] == 'NO','Enfermedad'] = 'No'\n",
        "dataset.loc[dataset['Enfermedad'] == 'no','Enfermedad'] = 'No'\n",
        "#'SI'\n",
        "dataset.loc[dataset['Enfermedad'] == 'SI','Enfermedad'] = 'Si'\n",
        "dataset"
      ],
      "metadata": {
        "id": "fHIbD0LimrMP"
      },
      "execution_count": null,
      "outputs": []
    },
    {
      "cell_type": "code",
      "source": [
        "#Estandarizar ortografia de la columna 'Uso_LMS'\n",
        "dataset.loc[dataset['Uso_LMS'] == 'BAJA','Uso_LMS'] = 'Baja'\n",
        "dataset.loc[dataset['Uso_LMS'] == 'MEDIA','Uso_LMS'] = 'Media'\n",
        "dataset.loc[dataset['Uso_LMS'] == 'ALTA','Uso_LMS'] = 'Alta'\n",
        "dataset.loc[dataset['Uso_LMS'] == 'baja','Uso_LMS'] = 'Baja'\n",
        "dataset.loc[dataset['Uso_LMS'] == 'media','Uso_LMS'] = 'Media'\n",
        "dataset.loc[dataset['Uso_LMS'] == 'alta','Uso_LMS'] = 'Alta'\n",
        "dataset"
      ],
      "metadata": {
        "id": "a01Rk5yAqGpU"
      },
      "execution_count": null,
      "outputs": []
    },
    {
      "cell_type": "markdown",
      "source": [
        "##***Analisis, comprencion y transformacion de valores nulos***##"
      ],
      "metadata": {
        "id": "MSdReIMTr2Qv"
      }
    },
    {
      "cell_type": "markdown",
      "source": [
        "Esta subsección se encarga de analizar los campos \"nulos\" que hay en el dataset junto con otros campos para poder completar dicha informacion.\n",
        "Aqui se hacen operaciones de estadistica base como sacar moda y media y  hacer agrupacion de datos.\n",
        "(coloco el nulos entre comillas ya que el dataset no muestra tener valores nulos en el informe estadistico, pero hay datos 0 en 8 columnas entre las cuales hay columnas categoricas y columnas numericas)"
      ],
      "metadata": {
        "id": "msE8Yac9ZNZy"
      }
    },
    {
      "cell_type": "code",
      "source": [
        "#Completar valores \"nulos\" de la columna 'Ubicacion'\n",
        "#Conteo de los datos, cuantas veces se repite cada dato en la columna 'Ubicacion'\n",
        "conteo = dataset['Ubicacion'].value_counts()\n",
        "print(conteo)\n",
        "#Despues del analisis se remplazan los valores '0' por la moda\n",
        "dataset.loc[dataset['Ubicacion'] == 0,'Ubicacion'] = moda = dataset['Ubicacion'].mode()[0]"
      ],
      "metadata": {
        "id": "0HYuS0rRnLLe"
      },
      "execution_count": null,
      "outputs": []
    },
    {
      "cell_type": "markdown",
      "source": [
        "***Podemos ver que con diferencia Medellin es la moda***"
      ],
      "metadata": {
        "id": "4LeSHbJKdPht"
      }
    },
    {
      "cell_type": "markdown",
      "source": [
        "###***Completar valores \"nulos\" de la columna 'Tipo de Colegio'***###\n",
        "\n",
        "En este caso, para poder completar los campos \"nulos\" de la columna 'Tipo de Colegio', lo que se hizo fue analisar varias cosas:\n",
        "\n",
        "## Analisis 1 ##\n",
        "- Se vio que la ciudad a la que pertenecen todos los valores \"nulos\" en la columna 'Tipo de Colegio' coiciden con Medellín.\n",
        "\n",
        "## Analisis 2 ##\n",
        "\n",
        "- A continuacion se consultó la cantidad de cada uno de los tipos de colegios en Medellin a los que pertenecian los aprendices segun los datos de la tabla, en este caso cuántos colegios tecnicos, cuántos agropecuarios, cuántos academicos y cuántos comerciales para saber su moda, la cual fue 'Tecnicos' .\n",
        "\n",
        "## Analisis 3 ##\n",
        "\n",
        "- despues de esto, se hizo una agrupacion entre la columna 'Estrato' y 'Tipo de Colegio' para saber cual era el estrato moda entre esos valores \"nulos\", el cual fue el estrato 3.\n",
        "\n",
        "## Analisis 4 ##\n",
        "\n",
        "- Para finalizar, se hizo una ultima agrupacion entre las columnas 'Ubicacion', 'Tipo de Colegio' y 'Estrato'.\n",
        "Revisando la informacion, podemos ver que todas las personas de estrato 3 que viven en medellin vienen de colegios tecnicos.\n",
        "\n",
        "## Conclucion ##\n",
        "\n",
        "Con estos analisis y agrupaciones se puede confirmar que la mejor opcion para llenar los campos \"nulos\" en la columna 'Tipos de Colegio' seria 'Tecnico'."
      ],
      "metadata": {
        "id": "e7pdVx7T-Zpa"
      }
    },
    {
      "cell_type": "markdown",
      "source": [
        "###***Analisis 1***###"
      ],
      "metadata": {
        "id": "-JbwJc80PO4a"
      }
    },
    {
      "cell_type": "code",
      "source": [
        "# Filtra los datos por el tipo de colegio con valor 0\n",
        "Tipo_nulos = dataset[dataset['Tipo de Colegio'] == 0]\n",
        "\n",
        "# Obtiene las ciudades (Ubicaciones) correspondientes a esos valores '0'\n",
        "Ciudad_tipo_nulos = Tipo_nulos['Ubicacion'].unique()\n",
        "\n",
        "print(\"Las ciudades correspondientes a los valores nulos en la columna 'Tipo de Colegio': \", Ciudad_tipo_nulos)"
      ],
      "metadata": {
        "id": "4ysueODTQWgX"
      },
      "execution_count": null,
      "outputs": []
    },
    {
      "cell_type": "markdown",
      "source": [
        "###***Analisis 2***###"
      ],
      "metadata": {
        "id": "a0aYraYKPizk"
      }
    },
    {
      "cell_type": "code",
      "source": [
        "print(\"----------Agrupaciones de datos para saber cuantos aprendices vienen de cada tipo de colegio en Medellin---------\")\n",
        "#Agrupacion de datos para saber cuantos aprendices vienen de colegios tecnicos en Medellin\n",
        "conteoM = dataset[(dataset['Ubicacion'] == 'Medellin') & (dataset['Tipo de Colegio'] == 'Tecnico')]\n",
        "conteoM1 = conteoM['Tipo de Colegio'].value_counts()\n",
        "print(\"Medellin \",conteoM1)\n",
        "print(\"\")\n",
        "#Agrupacion de datos para saber cuantos aprendices vienen de colegios Comerciales en Medellin\n",
        "conteoM = dataset[(dataset['Ubicacion'] == 'Medellin') & (dataset['Tipo de Colegio'] == 'Comercial')]\n",
        "conteoM2 = conteoM['Tipo de Colegio'].value_counts()\n",
        "print(\"Medellin\",conteoM2)\n",
        "print(\"\")\n",
        "#Agrupacion de datos para saber cuantos aprendices vienen de colegios Agropecuarios en Medellin\n",
        "conteoM = dataset[(dataset['Ubicacion'] == 'Medellin') & (dataset['Tipo de Colegio'] == 'Agropecuario')]\n",
        "conteoM3 = conteoM['Tipo de Colegio'].value_counts()\n",
        "print(\"Medellin\",conteoM3,\"\\n\")\n",
        "print(\"\")\n",
        "#Agrupacion de datos para saber cuantos aprendices vienen de colegios Academicos en Medellin\n",
        "conteoM = dataset[(dataset['Ubicacion'] == 'Medellin') & (dataset['Tipo de Colegio'] == 'Academico')]\n",
        "conteoM4 = conteoM['Tipo de Colegio'].value_counts()\n",
        "print(\"Medellin\",conteoM4,\"\\n\")"
      ],
      "metadata": {
        "id": "dz3-gMMw5pz7"
      },
      "execution_count": null,
      "outputs": []
    },
    {
      "cell_type": "markdown",
      "source": [
        "###***Analisis 3***###"
      ],
      "metadata": {
        "id": "MhoiW-5MPowa"
      }
    },
    {
      "cell_type": "code",
      "source": [
        "#Agrupacion de datos para saber cuantas personas de estrato 1 pertenecen al los valores nulos\n",
        "print(\"----------Estrato 1----------\")\n",
        "CTME2 = dataset[(dataset['Estrato'] == 1) & (dataset['Tipo de Colegio'] == 0)]\n",
        "CTME2C = CTME2.shape[0]\n",
        "print(\"Personas de estrato 1 que estan entre los valores nulos: \", CTME2C)\n",
        "#Agrupacion de datos para saber cuantas personas de estrato 3 pertenecen al los valores nulos\n",
        "print(\"----------Estrato 2----------\")\n",
        "CTME2 = dataset[(dataset['Estrato'] == 2) & (dataset['Tipo de Colegio'] == 0)]\n",
        "CTME2C = CTME2.shape[0]\n",
        "print(\"Personas de estrato 2 que estan entre los valores nulos: \", CTME2C)\n",
        "#Agrupacion de datos para saber cuantas personas de estrato 3 pertenecen al los valores nulos\n",
        "print(\"----------Estrato 3----------\")\n",
        "CTME2 = dataset[(dataset['Estrato'] == 3) & (dataset['Tipo de Colegio'] == 0)]\n",
        "CTME2C = CTME2.shape[0]\n",
        "print(\"Personas de estrato 3 que estan entre los valores nulos: \", CTME2C)\n",
        "#Agrupacion de datos para saber cuantas personas de estrato 4 pertenecen al los valores nulos\n",
        "print(\"----------Estrato 4----------\")\n",
        "CTME2 = dataset[(dataset['Estrato'] == 4) & (dataset['Tipo de Colegio'] == 0)]\n",
        "CTME2C = CTME2.shape[0]\n",
        "print(\"Personas de estrato 4 que estan entre los valores nulos: \", CTME2C)"
      ],
      "metadata": {
        "id": "WHYkDLnUCUUe"
      },
      "execution_count": null,
      "outputs": []
    },
    {
      "cell_type": "markdown",
      "source": [
        "###***Analisis 4***###"
      ],
      "metadata": {
        "id": "oSbha2jeWRx6"
      }
    },
    {
      "cell_type": "code",
      "source": [
        "#CTME1 = ConteoTecnicosMedellinEstrato1\n",
        "#CTME1C = ConteoTecnicosMedellinEstrato1Conteo\n",
        "#Agrupacion para saber cuantas personas que vienen de medellin y vienen de colegios tecnicos pertencenen al estrato 1\n",
        "print(\"-----------TECNICOS-------\")\n",
        "CTME1 = dataset[(dataset['Ubicacion'] == 'Medellin') & (dataset['Tipo de Colegio'] == 'Tecnico') & (dataset['Estrato'] == 1)]\n",
        "CTME1C = CTME1.shape[0]\n",
        "print(\"Colegios técnicos en Medellín con estrato 1:\", CTME1C)\n",
        "\n",
        "#Agrupacion para saber cuantas personas que vienen de medellin y vienen de colegios tecnicos pertencenen al estrato 2\n",
        "CTME2 = dataset[(dataset['Ubicacion'] == 'Medellin') & (dataset['Tipo de Colegio'] == 'Tecnico') & (dataset['Estrato'] == 2)]\n",
        "CTME2C = CTME2.shape[0]\n",
        "print(\"Colegios técnicos en Medellín con estrato 2:\", CTME2C)\n",
        "\n",
        "#Agrupacion para saber cuantas personas que vienen de medellin y vienen de colegios tecnicos pertencenen al estrato 3\n",
        "CTME3 = dataset[(dataset['Ubicacion'] == 'Medellin') & (dataset['Tipo de Colegio'] == 'Tecnico') & (dataset['Estrato'] == 3)]\n",
        "CTME3C = CTME3.shape[0]\n",
        "print(\"Colegios técnicos en Medellín con estrato 3:\", CTME3C)\n",
        "\n",
        "#Agrupacion para saber cuantas personas que vienen de medellin y vienen de colegios tecnicos pertencenen al estrato 4\n",
        "CTME4 = dataset[(dataset['Ubicacion'] == 'Medellin') & (dataset['Tipo de Colegio'] == 'Tecnico') & (dataset['Estrato'] == 4)]\n",
        "CTME4C = CTME4.shape[0]\n",
        "print(\"Colegios técnicos en Medellín con estrato 4:\", CTME4C)\n",
        "\n",
        "#De aqui en adelante es lo mismo que lo anterior pero con los direntes tipos de colegio\n",
        "print(\"-----------COMERCIALES-------\")\n",
        "CTME1 = dataset[(dataset['Ubicacion'] == 'Medellin') & (dataset['Tipo de Colegio'] == 'Comercial') & (dataset['Estrato'] == 1)]\n",
        "CTME1C = CTME1.shape[0]\n",
        "print(\"Colegios Comercial en Medellín con estrato 1:\", CTME1C)\n",
        "CTME2 = dataset[(dataset['Ubicacion'] == 'Medellin') & (dataset['Tipo de Colegio'] == 'Comercial') & (dataset['Estrato'] == 2)]\n",
        "CTME2C = CTME2.shape[0]\n",
        "print(\"Colegios Comercial en Medellín con estrato 2:\", CTME2C)\n",
        "CTME3 = dataset[(dataset['Ubicacion'] == 'Medellin') & (dataset['Tipo de Colegio'] == 'Comercial') & (dataset['Estrato'] == 3)]\n",
        "CTME3C = CTME3.shape[0]\n",
        "print(\"Colegios Comercial en Medellín con estrato 3:\", CTME3C)\n",
        "CTME4 = dataset[(dataset['Ubicacion'] == 'Medellin') & (dataset['Tipo de Colegio'] == 'Comercial') & (dataset['Estrato'] == 4)]\n",
        "CTME4C = CTME4.shape[0]\n",
        "print(\"Colegios Comercial en Medellín con estrato 4:\", CTME4C)\n",
        "\n",
        "print(\"-----------AGROPECUARIOS-------\")\n",
        "CTME1 = dataset[(dataset['Ubicacion'] == 'Medellin') & (dataset['Tipo de Colegio'] == 'Agropecuario') & (dataset['Estrato'] == 1)]\n",
        "CTME1C = CTME1.shape[0]\n",
        "print(\"Colegios Agropecuario en Medellín con estrato 1:\", CTME1C)\n",
        "CTME2 = dataset[(dataset['Ubicacion'] == 'Medellin') & (dataset['Tipo de Colegio'] == 'Agropecuario') & (dataset['Estrato'] == 2)]\n",
        "CTME2C = CTME2.shape[0]\n",
        "print(\"Colegios Agropecuario en Medellín con estrato 2:\", CTME2C)\n",
        "CTME3 = dataset[(dataset['Ubicacion'] == 'Medellin') & (dataset['Tipo de Colegio'] == 'Agropecuario') & (dataset['Estrato'] == 3)]\n",
        "CTME3C = CTME3.shape[0]\n",
        "print(\"Colegios Agropecuario en Medellín con estrato 3:\", CTME3C)\n",
        "CTME4 = dataset[(dataset['Ubicacion'] == 'Medellin') & (dataset['Tipo de Colegio'] == 'Agropecuario') & (dataset['Estrato'] == 4)]\n",
        "CTME4C = CTME4.shape[0]\n",
        "print(\"Colegios Agropecuario en Medellín con estrato 4:\", CTME4C)\n",
        "\n",
        "print(\"-----------ACADEMICOS-------\")\n",
        "CTME1 = dataset[(dataset['Ubicacion'] == 'Medellin') & (dataset['Tipo de Colegio'] == 'Academico') & (dataset['Estrato'] == 1)]\n",
        "CTME1C = CTME1.shape[0]\n",
        "print(\"Colegios Academico en Medellín con estrato 1:\", CTME1C)\n",
        "CTME2 = dataset[(dataset['Ubicacion'] == 'Medellin') & (dataset['Tipo de Colegio'] == 'Academico') & (dataset['Estrato'] == 2)]\n",
        "CTME2C = CTME2.shape[0]\n",
        "print(\"Colegios Academico en Medellín con estrato 2:\", CTME2C)\n",
        "CTME3 = dataset[(dataset['Ubicacion'] == 'Medellin') & (dataset['Tipo de Colegio'] == 'Academico') & (dataset['Estrato'] == 3)]\n",
        "CTME3C = CTME3.shape[0]\n",
        "print(\"Colegios Academico en Medellín con estrato 3:\", CTME3C)\n",
        "CTME4 = dataset[(dataset['Ubicacion'] == 'Medellin') & (dataset['Tipo de Colegio'] == 'Academico') & (dataset['Estrato'] == 4)]\n",
        "CTME4C = CTME4.shape[0]\n",
        "print(\"Colegios Academico en Medellín con estrato 4:\", CTME4C)"
      ],
      "metadata": {
        "id": "jl79FfLn_Q7D"
      },
      "execution_count": null,
      "outputs": []
    },
    {
      "cell_type": "markdown",
      "source": [
        "###***Transformacion de valores nulos restantes***###\n"
      ],
      "metadata": {
        "id": "wF0YqF7UtbTc"
      }
    },
    {
      "cell_type": "markdown",
      "source": [
        "Esta pequeña sección es la que se encarga de llenar los los valores nulos restantes del dataset del dataset, utilice moda y media."
      ],
      "metadata": {
        "id": "HpwrlrT-d4SI"
      }
    },
    {
      "cell_type": "markdown",
      "source": [
        "####***Remplazo por moda***####"
      ],
      "metadata": {
        "id": "n8VZxsUnuF7d"
      }
    },
    {
      "cell_type": "code",
      "source": [
        "#Columna Trabaja\n",
        "#Cambiar valores '0' de la columna 'Trabaja' por la moda\n",
        "dataset.loc[dataset['Trabaja'] == 0,'Trabaja'] = moda = dataset['Trabaja'].mode()[0]"
      ],
      "metadata": {
        "id": "6NW8FZGmqPYw"
      },
      "execution_count": null,
      "outputs": []
    },
    {
      "cell_type": "code",
      "source": [
        "#Columna Enfermedad\n",
        "#Cambiar valores '0' de la columna 'Enfermedad' por la moda\n",
        "dataset.loc[dataset['Enfermedad'] == 0,'Enfermedad'] = moda = dataset['Enfermedad'].mode()[0]"
      ],
      "metadata": {
        "id": "c9br5_XDqZQT"
      },
      "execution_count": null,
      "outputs": []
    },
    {
      "cell_type": "code",
      "source": [
        "#Columna Tipo de colegio\n",
        "#Cambiar valores nulos de la columna 'Tipo de Colegio' por 'Tecnico'\n",
        "dataset.loc[dataset['Tipo de Colegio'] == 0,'Tipo de Colegio'] = 'Tecnico'\n",
        "dataset"
      ],
      "metadata": {
        "id": "DhPDt0bfDaow"
      },
      "execution_count": null,
      "outputs": []
    },
    {
      "cell_type": "code",
      "source": [
        "#Columna de Uso_LMS\n",
        "#Conteo de los datos, cuantas veces se repite cada dato en la columna 'Uso_LMS'\n",
        "conteo = dataset['Uso_LMS'].value_counts()\n",
        "print(conteo)\n",
        "#Despues del analisis se remplazan los valores '0' por la moda\n",
        "dataset.loc[dataset['Uso_LMS'] == 0,'Uso_LMS'] = moda = dataset['Uso_LMS'].mode()[0]\n",
        "dataset"
      ],
      "metadata": {
        "id": "m0F7bmnva4VY"
      },
      "execution_count": null,
      "outputs": []
    },
    {
      "cell_type": "markdown",
      "source": [
        "####***Remplazo por promedio***####"
      ],
      "metadata": {
        "id": "t1D0soYRuURm"
      }
    },
    {
      "cell_type": "code",
      "source": [
        "#Columna de Asistencia\n",
        "Promedio = dataset['Asistencia'].mean()\n",
        "# Reemplaza los valores 0 por el promedio\n",
        "dataset['Asistencia'] = dataset['Asistencia'].replace(0, Promedio)\n",
        "# Cambiar el valor negativo por el mismo valor pero en positivo\n",
        "dataset['Asistencia'] = dataset['Asistencia'].replace(-0.30, 0.30)\n",
        "dataset"
      ],
      "metadata": {
        "id": "LtuH-yvvfOf1"
      },
      "execution_count": null,
      "outputs": []
    },
    {
      "cell_type": "code",
      "source": [
        "#Columna de Entregas completas\n",
        "# Convierte los valores no numéricos en NaN y convierte los valores en números float\n",
        "dataset['Entregas_Completas'] = pd.to_numeric(dataset['Entregas_Completas'], errors='coerce')\n",
        "# el errors='coerce' sirve para que si ocurren errores durante la conversión a float, se establecerán como valores NaN (Not a Number).\n",
        "# Calcula el promedio de la columna excluyendo los valores NaN\n",
        "promedio = dataset['Entregas_Completas'].mean(skipna=True)\n",
        "# Reemplaza los valores 0 por el promedio\n",
        "dataset['Entregas_Completas'] = dataset['Entregas_Completas'].replace(0, Promedio)\n",
        "#Llenar los datos NaN\n",
        "dataset['Entregas_Completas'].fillna(Promedio, inplace=True)\n",
        "dataset"
      ],
      "metadata": {
        "id": "I8zWl204guZd"
      },
      "execution_count": null,
      "outputs": []
    },
    {
      "cell_type": "markdown",
      "source": [
        "###***Creacion de columna 'Estado' (Aprobado, No aprobado)***###"
      ],
      "metadata": {
        "id": "9DZbDFWCud4A"
      }
    },
    {
      "cell_type": "markdown",
      "source": [
        "Este bloque se encarga hacer una nueva columna para el dataset el cual dice que aprendices aprobaron o no. Esto depende del promedio que aroje las notas del estudiante, si el promedio es mayor a 3.5 aprueba, de lo contrario no aprueba; Esto es un valor agregado al dataset."
      ],
      "metadata": {
        "id": "V3_wy2Uvfdun"
      }
    },
    {
      "cell_type": "code",
      "source": [
        "#Se Calcula el promedio de las notas\n",
        "dataset['Promedio'] = dataset[['Sistemas', 'Matematicas', 'Ingles', 'Comunicación']].mean(axis=1)\n",
        "#Se Agrega la columna de estado ('Aprobado' o 'No aprobado')\n",
        "dataset['Estado'] = dataset['Promedio'].apply(lambda x: 'Aprobado' if x > 3.5 else 'No aprobado')\n",
        "#Se elimina la columna del promedio con la que se considero si se aprobaba o no para no mostrarla\n",
        "dataset.drop('Promedio', axis=1, inplace=True)\n",
        "dataset"
      ],
      "metadata": {
        "id": "4nnc_j_BmbzK"
      },
      "execution_count": null,
      "outputs": []
    },
    {
      "cell_type": "markdown",
      "source": [
        "#***Graficas***#"
      ],
      "metadata": {
        "id": "GwFOicSqvjz3"
      }
    },
    {
      "cell_type": "markdown",
      "source": [
        "Este bloque se encarga de realizar las graficas de algunos datos del dataset, en este caso se hizo graficos de barras simples, graficos pie y graficas de relacion en las cuales hay graficas de dispercion, barras agrupadas y BoxPlot (Bigote)"
      ],
      "metadata": {
        "id": "pSgRkgf5gGUZ"
      }
    },
    {
      "cell_type": "markdown",
      "source": [
        "##***Graficas de barras***##"
      ],
      "metadata": {
        "id": "Kjm89EeoyPq7"
      }
    },
    {
      "cell_type": "code",
      "source": [
        "# Gráfico de Barras para Estrato\n",
        "plt.figure(figsize=(8, 6))\n",
        "dataset['Estrato'].value_counts().sort_index().plot(kind='bar')\n",
        "plt.title('Distribución de Estrato')\n",
        "plt.xlabel('Estrato')\n",
        "plt.ylabel('Cantidad')\n",
        "plt.show()"
      ],
      "metadata": {
        "id": "WQ0gKlS1vzMv"
      },
      "execution_count": null,
      "outputs": []
    },
    {
      "cell_type": "code",
      "source": [
        "# Gráfico de Barras para Trabaja\n",
        "plt.figure(figsize=(8, 6))\n",
        "dataset['Trabaja'].value_counts().plot(kind='bar', color=['green', 'orange'])\n",
        "plt.title('Distribución de Trabajo')\n",
        "plt.xlabel('Trabaja')\n",
        "plt.ylabel('Cantidad')\n",
        "plt.show()"
      ],
      "metadata": {
        "id": "_qKMpvhuyiGG"
      },
      "execution_count": null,
      "outputs": []
    },
    {
      "cell_type": "code",
      "source": [
        "# Gráfico de Barras para Enfermedad\n",
        "plt.figure(figsize=(8, 6))\n",
        "dataset['Enfermedad'].value_counts().plot(kind='bar', color='purple')\n",
        "plt.title('Columna de Enfermedad')\n",
        "plt.xlabel('Enfermedad')\n",
        "plt.ylabel('Cantidad')\n",
        "plt.show()"
      ],
      "metadata": {
        "id": "GsAmkYX7yig4"
      },
      "execution_count": null,
      "outputs": []
    },
    {
      "cell_type": "code",
      "source": [
        "# Gráfico de Barras para Ubicacion\n",
        "plt.figure(figsize=(10, 6))\n",
        "dataset['Ubicacion'].value_counts().astype(int).plot(kind='bar', color='green')\n",
        "plt.title('Distribución de Ubicación')\n",
        "plt.xlabel('Ubicación')\n",
        "plt.ylabel('Cantidad')\n",
        "plt.xticks(rotation=45)\n",
        "plt.show()"
      ],
      "metadata": {
        "id": "cw6NH_gPyiy1"
      },
      "execution_count": null,
      "outputs": []
    },
    {
      "cell_type": "markdown",
      "source": [
        "##***Graficas de pastel***##"
      ],
      "metadata": {
        "id": "-mLAsCNl2Uno"
      }
    },
    {
      "cell_type": "code",
      "source": [
        "# Gráfico de Pastel de Género (Sexo)\n",
        "plt.figure(figsize=(8, 6))\n",
        "dataset['Sexo'].value_counts().plot(kind='pie', autopct='%1.1f%%', colors=['cyan', 'pink'])\n",
        "plt.title('Distribución de Género')\n",
        "plt.ylabel('')\n",
        "plt.show()"
      ],
      "metadata": {
        "id": "IclgEDtE2g23"
      },
      "execution_count": null,
      "outputs": []
    },
    {
      "cell_type": "code",
      "source": [
        "# Gráfico de Pastel de Tipo de Colegio\n",
        "plt.figure(figsize=(8, 6))\n",
        "dataset['Tipo de Colegio'].value_counts().plot(kind='pie', autopct='%1.1f%%', colors=['green', 'orange'])\n",
        "plt.title('Distribución de Tipo de Colegio')\n",
        "plt.ylabel('')\n",
        "plt.show()"
      ],
      "metadata": {
        "id": "6v9v3xfd3K1J"
      },
      "execution_count": null,
      "outputs": []
    },
    {
      "cell_type": "markdown",
      "source": [],
      "metadata": {
        "id": "lhihkNF_9yFk"
      }
    },
    {
      "cell_type": "markdown",
      "source": [
        "##***Graficas de relacion (Dispercion, Box Plots y barras)***##"
      ],
      "metadata": {
        "id": "STKsTmvF8K50"
      }
    },
    {
      "cell_type": "code",
      "source": [
        "#primero convertimos los valores decimales (float) a porcentaje\n",
        "#Entregas completas\n",
        "dataset['Entregas_Completas'] = dataset['Entregas_Completas'].apply(lambda x: f\"{x*100:.0f}%\")\n",
        "#Asistencia\n",
        "dataset['Asistencia'] = dataset['Asistencia'].apply(lambda x: f\"{x*100:.0f}%\")\n",
        "\n",
        "# Gráfico de Dispersión de Asistencia vs. Entregas Completas\n",
        "plt.figure(figsize=(8, 6))\n",
        "plt.scatter(dataset['Asistencia'], dataset['Entregas_Completas'], color='blue')\n",
        "plt.title('Relación entre Asistencia y Entregas Completas')\n",
        "plt.xlabel('Asistencia')\n",
        "plt.ylabel('Entregas Completas')\n",
        "plt.show()"
      ],
      "metadata": {
        "id": "1mYpUDCE42c1"
      },
      "execution_count": null,
      "outputs": []
    },
    {
      "cell_type": "code",
      "source": [
        "#Grafico de barras agrupadas de Ubicacion vs Estrato\n",
        "agrupacion = dataset.groupby(['Ubicacion', 'Estrato']).size().unstack()\n",
        "\n",
        "ax = agrupacion.plot(kind='bar', figsize=(10, 6))\n",
        "ax.set_title('Distribución de Estrato por Ubicación')\n",
        "ax.set_xlabel('Ubicación')\n",
        "ax.set_ylabel('Cantidad')\n",
        "ax.legend(title='Estrato')\n",
        "\n",
        "plt.xticks(rotation=45)\n",
        "plt.show()"
      ],
      "metadata": {
        "id": "dI0uMcGu-Nn2"
      },
      "execution_count": null,
      "outputs": []
    },
    {
      "cell_type": "code",
      "source": [
        "#Grafico de barras agrupadas de Ubicacion vs Estrato\n",
        "agrupacion = dataset.groupby(['Ubicacion', 'Tipo de Colegio']).size().unstack()\n",
        "\n",
        "ax = agrupacion.plot(kind='bar', figsize=(10, 6))\n",
        "ax.set_title('Distribución de Estrato por Ubicación')\n",
        "ax.set_xlabel('Ubicacion')\n",
        "ax.set_ylabel('Cantidad')\n",
        "ax.legend(title='Tipo de Colegio')\n",
        "\n",
        "plt.xticks(rotation=45)\n",
        "plt.show()"
      ],
      "metadata": {
        "id": "8H_rQNxE7_Zm"
      },
      "execution_count": null,
      "outputs": []
    },
    {
      "cell_type": "code",
      "source": [
        "# Diagrama de Box Plots (Bigote)\n",
        "materias = ['Sistemas', 'Matematicas', 'Ingles', 'Comunicación']\n",
        "\n",
        "dataset[materias].boxplot()\n",
        "plt.ylabel('Calificaciones')\n",
        "plt.title('Distribución de Calificaciones por Materia')\n",
        "plt.xticks(rotation=45)\n",
        "plt.grid(True)\n",
        "plt.show()"
      ],
      "metadata": {
        "id": "3SWq6x-k8wCV"
      },
      "execution_count": null,
      "outputs": []
    },
    {
      "cell_type": "markdown",
      "source": [
        "#***Descripcion estaistica final***#"
      ],
      "metadata": {
        "id": "vbZoJFN9CMDw"
      }
    },
    {
      "cell_type": "code",
      "source": [
        "#obtener informacion del dataset\n",
        "dataset.info()\n",
        "dataset.describe()"
      ],
      "metadata": {
        "id": "2JOZEoRsCKsf"
      },
      "execution_count": null,
      "outputs": []
    },
    {
      "cell_type": "code",
      "source": [
        "#Reporte estadistico del dataset\n",
        "reporte = ProfileReport(dataset)\n",
        "reporte.to_file(output_file='ReporteFinal.html')"
      ],
      "metadata": {
        "id": "rNNefLFbCaP-"
      },
      "execution_count": null,
      "outputs": []
    },
    {
      "cell_type": "code",
      "source": [
        "dataset"
      ],
      "metadata": {
        "id": "vhCknIuZDWk_"
      },
      "execution_count": null,
      "outputs": []
    }
  ]
}