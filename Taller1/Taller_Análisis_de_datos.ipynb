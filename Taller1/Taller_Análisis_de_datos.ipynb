{
  "nbformat": 4,
  "nbformat_minor": 0,
  "metadata": {
    "colab": {
      "provenance": [],
      "authorship_tag": "ABX9TyNGFngtj8wjA/flNRDvjJaU",
      "include_colab_link": true
    },
    "kernelspec": {
      "name": "python3",
      "display_name": "Python 3"
    },
    "language_info": {
      "name": "python"
    }
  },
  "cells": [
    {
      "cell_type": "markdown",
      "metadata": {
        "id": "view-in-github",
        "colab_type": "text"
      },
      "source": [
        "<a href=\"https://colab.research.google.com/github/Parsival1/Analisis_de_datos/blob/main/Taller1/Taller_An%C3%A1lisis_de_datos.ipynb\" target=\"_parent\"><img src=\"https://colab.research.google.com/assets/colab-badge.svg\" alt=\"Open In Colab\"/></a>"
      ]
    },
    {
      "cell_type": "markdown",
      "source": [
        "# *Importacion de variables y librerias*"
      ],
      "metadata": {
        "id": "PGicxpORaymW"
      }
    },
    {
      "cell_type": "code",
      "execution_count": null,
      "metadata": {
        "id": "O2qkXpjpXRtr"
      },
      "outputs": [],
      "source": [
        "#gestion de librerias\n",
        "import pandas as pd\n",
        "import matplotlib.pyplot as plt\n",
        "!pip install pandas-profiling\n",
        "from pandas_profiling import ProfileReport"
      ]
    },
    {
      "cell_type": "markdown",
      "source": [
        "#*Lectura de datos*"
      ],
      "metadata": {
        "id": "KHt336Wrbk4m"
      }
    },
    {
      "cell_type": "code",
      "source": [
        "#Leer los datos\n",
        "df = pd.read_excel('04_TallerLimpiezaDatos.xlsx')\n",
        "df"
      ],
      "metadata": {
        "id": "_ty2eXqrbd8e"
      },
      "execution_count": null,
      "outputs": []
    },
    {
      "cell_type": "markdown",
      "source": [
        "#*Descripcion estadistica*"
      ],
      "metadata": {
        "id": "CSymK_D8cH_T"
      }
    },
    {
      "cell_type": "code",
      "source": [
        "#obtener informacion del dataset\n",
        "df.info()\n",
        "df.describe()"
      ],
      "metadata": {
        "id": "ufcJeX-ypy6x"
      },
      "execution_count": null,
      "outputs": []
    },
    {
      "cell_type": "code",
      "source": [
        "#Reporte estadistico del dataset\n",
        "reporte = ProfileReport(df)\n",
        "reporte.to_file(output_file='Reporte.html')"
      ],
      "metadata": {
        "id": "u8M8uqxCcSZt"
      },
      "execution_count": null,
      "outputs": []
    },
    {
      "cell_type": "markdown",
      "source": [
        "#*Eliminacion y limpieza de datos*"
      ],
      "metadata": {
        "id": "LwdDiNHUcUlx"
      }
    },
    {
      "cell_type": "code",
      "source": [
        "#Cambiar valores del genero masculino\n",
        "df.loc[df['Genero'] == 'M','Genero'] = 'Masculino'\n",
        "df.loc[df['Genero'] == 'Hombre','Genero'] = 'Masculino'\n",
        "df.loc[df['Genero'] == 'H','Genero'] = 'Masculino'\n",
        "\n",
        "#Cambiar valores del genero femenino\n",
        "df.loc[df['Genero'] == 'F','Genero'] = 'Femenino'\n",
        "df.loc[df['Genero'] == 'Mujer','Genero'] = 'Femenino'\n",
        "df\n",
        "\n"
      ],
      "metadata": {
        "id": "m3eOrAroc98t"
      },
      "execution_count": null,
      "outputs": []
    },
    {
      "cell_type": "code",
      "source": [
        "#Cambiar valores nulos de los generos\n",
        "#Femenino = 24,29,36 - Masculino = 25,30,34,37,39\n",
        "\n",
        "df.iloc[24, 3] = 'Femenino'\n",
        "df.iloc[29, 3] = 'Femenino'\n",
        "df.iloc[36, 3] = 'Femenino'\n",
        "\n",
        "df.iloc[25, 3] = 'Femenino'\n",
        "df.iloc[30, 3] = 'Femenino'\n",
        "df.iloc[34, 3] = 'Femenino'\n",
        "df.iloc[37, 3] = 'Femenino'\n",
        "df.iloc[39, 3] = 'Femenino'\n",
        "df"
      ],
      "metadata": {
        "id": "jAffLyxqe-2E"
      },
      "execution_count": null,
      "outputs": []
    },
    {
      "cell_type": "code",
      "source": [
        "#Cambiar valores nulos de tipo de venta\n",
        "# 9,19,39,46\n",
        "agrupacion =  df.groupby('TipoVenta').agg({'TipoVenta':'count'})\n",
        "print(agrupacion)\n",
        "\n",
        "df.iloc[9, 5] = 'Catalogo'\n",
        "df.iloc[19, 5] = 'Catalogo'\n",
        "df.iloc[39, 5] = 'Catalogo'\n",
        "df.iloc[46, 5] = 'Catalogo'\n",
        "df"
      ],
      "metadata": {
        "id": "9OOt6vaunDaq"
      },
      "execution_count": null,
      "outputs": []
    },
    {
      "cell_type": "code",
      "source": [
        "\n",
        "#Eliminar la columna Cliente que contiene el nombre del cliente\n",
        "df = df.drop(['Cliente'], axis=1)\n",
        "#Eliminar la columna Factura\n",
        "df = df.drop(['Factura'], axis=1)\n",
        "df"
      ],
      "metadata": {
        "id": "AFKry1J1N7ug"
      },
      "execution_count": null,
      "outputs": []
    },
    {
      "cell_type": "markdown",
      "source": [
        "#*Descripcion estadistica*"
      ],
      "metadata": {
        "id": "lT_O3dspc5x6"
      }
    },
    {
      "cell_type": "code",
      "source": [
        "# Obtener un resumen estadístico básico\n",
        "descripcion_basica = df.describe()\n",
        "print(\"Resumen estadístico básico:\")\n",
        "print(descripcion_basica)"
      ],
      "metadata": {
        "id": "n8zUhdbOQBiT"
      },
      "execution_count": null,
      "outputs": []
    },
    {
      "cell_type": "markdown",
      "source": [
        "#*Graficas y demas procesos*"
      ],
      "metadata": {
        "id": "bF13bDJvdHNu"
      }
    },
    {
      "cell_type": "code",
      "source": [
        "#Nueva columna SubTotal\n",
        "df['SubTotal'] = df['Cantidad'] * df['ValorUnitario']\n",
        "df"
      ],
      "metadata": {
        "id": "0DxmYKnCRzZb"
      },
      "execution_count": null,
      "outputs": []
    },
    {
      "cell_type": "code",
      "source": [
        "#Generar grafica\n",
        "plt.scatter(df['Producto'], df['Cantidad'])\n",
        "plt.title('Gráfico de Dispersión')\n",
        "plt.xlabel('Productos')\n",
        "plt.ylabel('Cantidad')\n",
        "plt.show()\n",
        "\n",
        "plt.bar(df['Producto'], df['Cantidad'])\n",
        "plt.title('Gráfico de Barras de Relación entre Producto y Cantidad ')\n",
        "plt.xlabel('Producto')\n",
        "plt.ylabel('Cantidad')\n",
        "plt.show()"
      ],
      "metadata": {
        "id": "M0OaIc2RSiwc"
      },
      "execution_count": null,
      "outputs": []
    },
    {
      "cell_type": "code",
      "source": [
        "#Generar grafico de total de ventas por genero\n",
        "ventas_por_genero = df.groupby('Genero')['SubTotal'].sum()\n",
        "\n",
        "plt.bar(ventas_por_genero.index, ventas_por_genero.values)\n",
        "plt.title('Total de Ventas por Género de Clientes')\n",
        "plt.xlabel('Género')\n",
        "plt.ylabel('Total de Ventas')\n",
        "plt.show()"
      ],
      "metadata": {
        "id": "au3MRr5-Vxij"
      },
      "execution_count": null,
      "outputs": []
    },
    {
      "cell_type": "code",
      "source": [
        "#Generar dos consultas de agrupamiento de valor agregado a la informacion obtenida.\n",
        "\n",
        "# consulta 1: Suma de valores en 'Cantidad' agrupados por 'ValorUnitario'\n",
        "consulta_agrupamiento_1 = df.groupby('Cantidad')['ValorUnitario'].sum()\n",
        "\n",
        "#consulta 2: Promedio de valores en 'Cantidad' agrupados por 'ValorUnitario'\n",
        "consulta_agrupamiento_2 = df.groupby('Cantidad')['ValorUnitario'].mean()\n",
        "\n",
        "print(f\"consulta #1: Suma de valores en 'Cantidad' agrupados por 'ValorUnitario'\\n{consulta_agrupamiento_1}\")\n",
        "print()\n",
        "print(f\"consulta #2: Promedio de valores en 'Cantidad' agrupados por 'ValorUnitario''\\n{consulta_agrupamiento_2}\")"
      ],
      "metadata": {
        "id": "J1a4Qv5hYVMu"
      },
      "execution_count": null,
      "outputs": []
    },
    {
      "cell_type": "code",
      "source": [
        "#Exportar el DataSet como un exel\n",
        "df.to_excel('DatosFinales.xlsx', index=False)"
      ],
      "metadata": {
        "id": "CPOb5Ym4X5xg"
      },
      "execution_count": 46,
      "outputs": []
    },
    {
      "cell_type": "code",
      "source": [
        "#Leer datos finales\n",
        "df = pd.read_excel('DatosFinales.xlsx')\n",
        "df"
      ],
      "metadata": {
        "id": "Q4cDurEBYCoF"
      },
      "execution_count": null,
      "outputs": []
    }
  ]
}